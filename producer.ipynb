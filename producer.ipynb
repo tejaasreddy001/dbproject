{
 "cells": [
  {
   "cell_type": "code",
   "execution_count": null,
   "metadata": {},
   "outputs": [],
   "source": [
    "from kafka import KafkaProducer\n",
    "import cv2\n",
    "producer=KafkaProducer(bootstrap_servers=['localhost:9092'],api_version=(0,10,1))\n",
    "image = cv2.imread(\"7.png\")\n",
    "ret, buffer = cv2.imdecode('.png',image)\n",
    "producer.send(\"test\".buffer.tobytes())"
   ]
  }
 ],
 "metadata": {
  "kernelspec": {
   "display_name": "Python 3",
   "language": "python",
   "name": "python3"
  },
  "language_info": {
   "name": "python",
   "version": "3.11.0"
  },
  "orig_nbformat": 4
 },
 "nbformat": 4,
 "nbformat_minor": 2
}
